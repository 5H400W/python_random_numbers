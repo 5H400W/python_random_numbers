{
  "nbformat": 4,
  "nbformat_minor": 0,
  "metadata": {
    "colab": {
      "name": "python_random_numbers.ipynb",
      "provenance": []
    },
    "kernelspec": {
      "name": "python3",
      "display_name": "Python 3"
    },
    "language_info": {
      "name": "python"
    }
  },
  "cells": [
    {
      "cell_type": "markdown",
      "source": [
        "1) Design a function to generate random numbers without the help of any internal or external library of python(build the function from scratch) also plot it."
      ],
      "metadata": {
        "id": "9z3rD5I0ENfb"
      }
    },
    {
      "cell_type": "code",
      "source": [
        "#one solution\n",
        "\n",
        "#importing Libraries\n",
        "import numpy as np\n",
        "import matplotlib.pyplot as plt\n",
        "from time import time\n",
        "#creating Random function\n",
        "\n",
        "def rm(x,y):\n",
        "  r=time()-float(str(time()).split('.')[0])\n",
        "  rm=r*(x-y)+y\n",
        "  return rm\n",
        "#inserting starting and ending poiints\n",
        "\n",
        "rm(1,2)"
      ],
      "metadata": {
        "colab": {
          "base_uri": "https://localhost:8080/"
        },
        "id": "kdYclp4SERP8",
        "outputId": "59b134a9-3928-471c-87ec-931cea2db4b6"
      },
      "execution_count": 23,
      "outputs": [
        {
          "output_type": "execute_result",
          "data": {
            "text/plain": [
              "1.69527006149292"
            ]
          },
          "metadata": {},
          "execution_count": 23
        }
      ]
    },
    {
      "cell_type": "code",
      "source": [
        " #2nd Solution More complex :Linear congruential generator\n",
        "\n",
        "def  random(mult =16807,\n",
        "            mod =(2**31)-1,\n",
        "            seed=5,\n",
        "            size=1):\n",
        "  u= np.zeros(size)\n",
        "  x= (seed*mult+1)%mod\n",
        "  u[0]= x/mod\n",
        "\n",
        "  for i in range (1,size):\n",
        "    x=(x*mult+1)%mod\n",
        "    u[i]=x/mod\n",
        "\n",
        "  return u\n"
      ],
      "metadata": {
        "id": "ECnac5xeHNHh"
      },
      "execution_count": 30,
      "outputs": []
    },
    {
      "cell_type": "code",
      "source": [
        "#creating a generalized uniform random generator\n",
        "\n",
        "def random_uniform(low=0,high=1,seed=5,size=1):\n",
        "\n",
        "  return low+(high-low)*random(seed=seed,size=size)"
      ],
      "metadata": {
        "id": "QsCZ57JxP5kh"
      },
      "execution_count": 33,
      "outputs": []
    },
    {
      "cell_type": "code",
      "source": [
        "l=random_uniform (low=-5,high=9,size=10000)\n",
        "\n",
        "#ploting the chart\n",
        "\n",
        "plt.hist(l,bins=20,edgecolor='K')\n",
        "plt.xticks(fontsize=15)\n",
        "plt.yticks(fontsize=15)\n",
        "plt.xlim(-6,8)\n",
        "plt.show()"
      ],
      "metadata": {
        "colab": {
          "base_uri": "https://localhost:8080/",
          "height": 270
        },
        "id": "Nuo4d5fgRXoR",
        "outputId": "b925d2f5-8a39-43c7-86fa-62b722b5a036"
      },
      "execution_count": 34,
      "outputs": [
        {
          "output_type": "display_data",
          "data": {
            "text/plain": [
              "<Figure size 432x288 with 1 Axes>"
            ],
            "image/png": "[encoded data removed]"
          },
          "metadata": {
            "needs_background": "light"
          }
        }
      ]
    },
    {
      "cell_type": "code",
      "source": [
        ""
      ],
      "metadata": {
        "id": "dPwIr-fCR7qa"
      },
      "execution_count": null,
      "outputs": []
    }
  ]
}